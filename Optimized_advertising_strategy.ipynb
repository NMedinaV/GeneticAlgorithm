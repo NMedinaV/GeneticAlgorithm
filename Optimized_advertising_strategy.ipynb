{
 "cells": [
  {
   "cell_type": "markdown",
   "metadata": {},
   "source": [
    "#  GENETIC ALGORITHM\n",
    "\n",
    "# Optimization of advertising investment"
   ]
  },
  {
   "cell_type": "markdown",
   "metadata": {},
   "source": [
    "The following problem tries to solve the best combination of investment in advertising through Genetic Algorithms.\n",
    "\n",
    "These algorithms make a population of individuals evolve, subjecting them to random actions similar to biological evolution, in order to find optimization solutions.\n",
    "\n",
    "https://es.wikipedia.org/wiki/Algoritmo_gen%C3%A9tico#:~:text=Los%20algoritmos%20gen%C3%A9ticos%20(AG)%20funcionan,la%20cadena%20son%20llamados%20genes."
   ]
  },
  {
   "cell_type": "markdown",
   "metadata": {},
   "source": [
    "**IMPORT LIBRARIES**"
   ]
  },
  {
   "cell_type": "code",
   "execution_count": 1,
   "metadata": {},
   "outputs": [],
   "source": [
    "import random\n",
    "import numpy as np\n",
    "from random import randrange\n",
    "from random import randint, uniform"
   ]
  },
  {
   "cell_type": "markdown",
   "metadata": {},
   "source": [
    "**MUTATION FUNCTION**"
   ]
  },
  {
   "cell_type": "code",
   "execution_count": 2,
   "metadata": {},
   "outputs": [],
   "source": [
    "def mutateIndividual(ind):\n",
    "    \"\"\"Get mutated or non-mutated value\n",
    "    \n",
    "    Parameters:\n",
    "    -----------\n",
    "    ind: lst\n",
    "        contains a list with the values of the child pattern\n",
    "    \n",
    "    Return:\n",
    "    -------\n",
    "    ind: lst\n",
    "        contains a list with the mutated or non-mutated values of the child pattern\n",
    "    \n",
    "    \"\"\"\n",
    "    for i in range(len(ind)): # select one chromosome\n",
    "        if random.random() < 0.15: # random probability of mutation\n",
    "            if ind[i] == 0:\n",
    "                ind[i] = 1\n",
    "            else:\n",
    "                ind[i] = 0\n",
    "    return ind"
   ]
  },
  {
   "cell_type": "markdown",
   "metadata": {},
   "source": [
    "**GENETIC ALGORITHM FUCTION**"
   ]
  },
  {
   "cell_type": "code",
   "execution_count": 3,
   "metadata": {},
   "outputs": [],
   "source": [
    "def BinaryTournamentAlgorithm(generations, costs, profit, limit):\n",
    "    \"\"\"Get the best investment combination through genetic algorithms\n",
    "    \n",
    "    Parameters:\n",
    "    -----------\n",
    "    \n",
    "    generations: int \n",
    "        number of iterations the evaluation is performed\n",
    "    \n",
    "    costs: lst\n",
    "        list of costs for each advertising medium\n",
    "    \n",
    "    profit: lst\n",
    "        list of earnings of each advertising medium\n",
    "    \n",
    "    limit: int\n",
    "        maximum investment value\n",
    "        \n",
    "    Return: \n",
    "    -------\n",
    "    best_supports: lst\n",
    "        optimized list of advertising media\n",
    "        \n",
    "    \"\"\"\n",
    "    \n",
    "    P = []    # random genotype initialization\n",
    "    for j in range(len(costs)):\n",
    "        p = []\n",
    "        for v in range(len(costs)):\n",
    "            p.append(randrange(2))\n",
    "        P.append(p)\n",
    "    \n",
    "    for q in range(generations):   # number of iterations the evaluation is performed \n",
    "        fenotipos = []\n",
    "        for c in P:\n",
    "            fenotipos.append(sum(c*profit))\n",
    "\n",
    "        parents = []\n",
    "        parents_index = []\n",
    "        for s in range(2):    # parent selection by binary tournament\n",
    "            x = random.sample(range(0,len(costs)),3)\n",
    "            selected = []\n",
    "            for n in x:\n",
    "                selected.append(fenotipos[n])\n",
    "            parents_index.append(x[np.argmax(np.array(selected))])\n",
    "            parents.append(P[x[np.argmax(np.array(selected))]])\n",
    "\n",
    "        x = randrange(1,20)    # crossing\n",
    "        child1 = parents[0][0:x]+parents[1][x:]\n",
    "        child2 = parents[1][0:x]+parents[0][x:]\n",
    "\n",
    "        child1 = mutateIndividual(child1)    # mutation\n",
    "        child2 = mutateIndividual(child2)\n",
    "\n",
    "        similar_parent0h1 = 0    # replacement\n",
    "        similar_parent1h1 = 0\n",
    "        similar_parent0h2 = 0\n",
    "        similar_parent1h2 = 0\n",
    "\n",
    "        for i in range(len(costs)):\n",
    "            if parents[0][i] == child1[i]:\n",
    "                similar_parent0h1 +=1\n",
    "            if parents[1][i] == child1[i]:\n",
    "                similar_parent1h1 +=1\n",
    "            if parents[0][i] == child2[i]:\n",
    "                similar_parent0h2 +=1\n",
    "            if parents[1][i] == child2[i]:\n",
    "                similar_parent1h2 +=1\n",
    "\n",
    "        if similar_parent0h1 == similar_parent1h1:\n",
    "            if similar_parent0h2 == similar_parent1h2:\n",
    "                P[parents_index[0]] = child1\n",
    "                P[parents_index[1]] = child2\n",
    "            elif similar_parent0h2 > similar_parent1h2:\n",
    "                P[parents_index[0]] = child2\n",
    "                P[parents_index[1]] = child1\n",
    "        elif similar_parent0h2 == similar_parent1h2:\n",
    "            if similar_parent0h1 == similar_parent1h1:\n",
    "                P[parents_index[1]] = child1\n",
    "                P[parents_index[0]] = child2\n",
    "            elif similar_parent0h1 > similar_parent1h1:\n",
    "                P[parents_index[1]] = child2\n",
    "                P[parents_index[0]] = child1\n",
    "        elif similar_parent0h1 > similar_parent1h1:\n",
    "            P[parents_index[0]] = child1\n",
    "            P[parents_index[1]] = child2\n",
    "        elif similar_parent0h1 < similar_parent1h1:\n",
    "            P[parents_index[1]] = child1\n",
    "            P[parents_index[0]] = child2\n",
    "        elif similar_parent0h2 > similar_parent1h2:\n",
    "            P[parents_index[1]] = child1\n",
    "            P[parents_index[0]] = child2\n",
    "        elif similar_parent0h2 < similar_parent1h2:\n",
    "            P[parents_index[0]] = child1\n",
    "            P[parents_index[1]] = child2\n",
    "            \n",
    "        net_profit = []\n",
    "        gross_profit = []\n",
    "        cost = []\n",
    "        final_P = []\n",
    "        \n",
    "        for w in range(len(costs)):\n",
    "            if (sum(P[w]*costs))<=limit:\n",
    "                gross_profit.append((sum(P[w]*profit)))\n",
    "                cost.append((sum(P[w]*costs)))                                       \n",
    "                net_profit.append((sum(P[w]*profit)-(sum(P[w]*costs))))\n",
    "                final_P.append(P[w])\n",
    "            else:\n",
    "                pass\n",
    "    try:\n",
    "        print('Investment: ', cost[net_profit.index(max(net_profit))])\n",
    "        print('Gross Profit: ', gross_profit[net_profit.index(max(net_profit))])\n",
    "        print('Net profit: ', net_profit[net_profit.index(max(net_profit))])\n",
    "        print('\\nThe best advertising combination: ')\n",
    "        best_combination = final_P[net_profit.index(max(net_profit))]\n",
    "    except:\n",
    "        best_combination = None\n",
    "        print('No combination has been found. Increase the number of generations')\n",
    "\n",
    "    best_supports = []\n",
    "    for x, y in zip(supports, best_combination):\n",
    "        best_supports.extend([x] * y)\n",
    "    \n",
    "    return best_supports"
   ]
  },
  {
   "cell_type": "markdown",
   "metadata": {},
   "source": [
    "**DATA**"
   ]
  },
  {
   "cell_type": "markdown",
   "metadata": {},
   "source": [
    "The data that will be taken in the model are declared below:\n",
    "\n",
    "- The **limit** refers to the maximum investment considered\n",
    "\n",
    "- The **generations** are the iterations that the algorithm will perform for its evolution\n",
    "\n",
    "- The **supports** are the descriptive label of each advertising support\n",
    "\n",
    "- The **costs** are the cost of each advertising action\n",
    "\n",
    "- The **benefit** is the return on investment of each advertising action\n",
    "\n",
    "(These data are fictitious)"
   ]
  },
  {
   "cell_type": "code",
   "execution_count": 4,
   "metadata": {},
   "outputs": [],
   "source": [
    "limit = 5000\n",
    "generations = 500\n",
    "supports = ['googleads', 'fb', 'ig', 'radio', 'billboards', 'periódico', 'newspaper', 'twitter', 'flyers', 'stands', 'roll up', 'high reputation influencer', 'raffles', 'tv high hours', 'advertising on the subway', 'advertising at bus stops', 'medium reputation influencer', 'low reputation influencer', 'tv low hours', 'mobile applications']\n",
    "costs = np.array([300, 60, 300, 1000, 400, 500, 500, 1500, 200, 900, 1300, 300, 700, 1500, 800, 500, 1000, 300, 800, 200])\n",
    "profit = np.array([600, 200, 500, 1200, 700, 900, 900, 1600, 500, 2000, 1500, 500, 1000, 1900, 1000, 800, 1500, 600, 900, 450])"
   ]
  },
  {
   "cell_type": "markdown",
   "metadata": {},
   "source": [
    "**RESULTS**"
   ]
  },
  {
   "cell_type": "code",
   "execution_count": 5,
   "metadata": {},
   "outputs": [
    {
     "name": "stdout",
     "output_type": "stream",
     "text": [
      "Investment:  4460\n",
      "Gross Profit:  7350\n",
      "Net profit:  2890\n",
      "\n",
      "The best advertising combination: \n"
     ]
    },
    {
     "data": {
      "text/plain": [
       "['fb',\n",
       " 'radio',\n",
       " 'periódico',\n",
       " 'stands',\n",
       " 'raffles',\n",
       " 'advertising on the subway',\n",
       " 'low reputation influencer',\n",
       " 'mobile applications']"
      ]
     },
     "execution_count": 5,
     "metadata": {},
     "output_type": "execute_result"
    }
   ],
   "source": [
    "BinaryTournamentAlgorithm(generations, costs, profit, limit)"
   ]
  },
  {
   "cell_type": "markdown",
   "metadata": {},
   "source": [
    "As a conclusion, the investment required for this optimized combination is detailed. Being 4,460€ and obtaining a net profit of 2,890€. \n",
    "\n",
    "This strategy recovers the total capital invested and also achieves a 64% profit."
   ]
  }
 ],
 "metadata": {
  "kernelspec": {
   "display_name": "Python 3",
   "language": "python",
   "name": "python3"
  },
  "language_info": {
   "codemirror_mode": {
    "name": "ipython",
    "version": 3
   },
   "file_extension": ".py",
   "mimetype": "text/x-python",
   "name": "python",
   "nbconvert_exporter": "python",
   "pygments_lexer": "ipython3",
   "version": "3.7.7"
  }
 },
 "nbformat": 4,
 "nbformat_minor": 4
}
